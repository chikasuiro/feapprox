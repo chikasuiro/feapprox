{
  "nbformat": 4,
  "nbformat_minor": 0,
  "metadata": {
    "colab": {
      "name": "1-16.ipynb",
      "provenance": [],
      "collapsed_sections": []
    },
    "kernelspec": {
      "name": "python3",
      "display_name": "Python 3"
    },
    "language_info": {
      "name": "python"
    }
  },
  "cells": [
    {
      "cell_type": "markdown",
      "metadata": {
        "id": "gJeeCOON5NqT"
      },
      "source": [
        "$$\n",
        "\\frac{d^2\\phi}{dx^2}+\\frac{d^2\\phi}{dy^2}=0~~(x=0)\n",
        "$$"
      ]
    },
    {
      "cell_type": "code",
      "metadata": {
        "id": "OM7Ng2RaogEt"
      },
      "source": [
        "import numpy as np\n",
        "import numpy.linalg as LA"
      ],
      "execution_count": null,
      "outputs": []
    },
    {
      "cell_type": "code",
      "metadata": {
        "id": "nqy98c0LolR3"
      },
      "source": [
        "A = np.zeros((14, 14))"
      ],
      "execution_count": null,
      "outputs": []
    },
    {
      "cell_type": "code",
      "metadata": {
        "id": "DrYe4nDmp2Gl"
      },
      "source": [
        "A[0,0]=A[2,2]=A[4,4]=A[6,6]=A[7,7]=A[8,8]=A[13,13]=-4\n",
        "A[1,1]=A[10,10]=-3\n",
        "A[3,3]=A[5,5]=A[9,9]=A[11,11]=A[12,12]=-6"
      ],
      "execution_count": null,
      "outputs": []
    },
    {
      "cell_type": "code",
      "metadata": {
        "id": "JfB-zUmeqkop"
      },
      "source": [
        "# idx of val == 1\n",
        "idx1 = [\n",
        "        (0,1), (1,0), (1,3), (2,0), (2,3), (2,4), (3,1), (3,5), (4,2), (4,5), (4,8),\n",
        "        (5,3), (5,9), (6, 10), (7, 6), (7, 8), (7, 11), (8, 4), (8, 7), (8, 9), (8, 12),\n",
        "        (9, 5), (9, 13), (10, 6), (10, 11), (11, 10), (11, 12), (12, 11), (12, 13),\n",
        "        (13, 9), (13, 12)\n",
        "]\n",
        "\n",
        "idx2 = [\n",
        "        (0, 2), (3, 2), (5, 4), (6, 7), (9, 8), (11, 7), (12, 8)\n",
        "]"
      ],
      "execution_count": null,
      "outputs": []
    },
    {
      "cell_type": "code",
      "metadata": {
        "id": "7nAjeUDbq83j"
      },
      "source": [
        "for idx in idx1:\n",
        "    A[idx[0], idx[1]] = 1\n",
        "for idx in idx2:\n",
        "    A[idx[0], idx[1]] = 2"
      ],
      "execution_count": null,
      "outputs": []
    },
    {
      "cell_type": "code",
      "metadata": {
        "colab": {
          "base_uri": "https://localhost:8080/"
        },
        "id": "CFWa2jrLs34U",
        "outputId": "8f2f26e4-f4f7-47cc-97a2-5415fc8231e2"
      },
      "source": [
        "A"
      ],
      "execution_count": null,
      "outputs": [
        {
          "output_type": "execute_result",
          "data": {
            "text/plain": [
              "array([[-4.,  1.,  2.,  0.,  0.,  0.,  0.,  0.,  0.,  0.,  0.,  0.,  0.,\n",
              "         0.],\n",
              "       [ 1., -3.,  0.,  1.,  0.,  0.,  0.,  0.,  0.,  0.,  0.,  0.,  0.,\n",
              "         0.],\n",
              "       [ 1.,  0., -4.,  1.,  1.,  0.,  0.,  0.,  0.,  0.,  0.,  0.,  0.,\n",
              "         0.],\n",
              "       [ 0.,  1.,  2., -6.,  0.,  1.,  0.,  0.,  0.,  0.,  0.,  0.,  0.,\n",
              "         0.],\n",
              "       [ 0.,  0.,  1.,  0., -4.,  1.,  0.,  0.,  1.,  0.,  0.,  0.,  0.,\n",
              "         0.],\n",
              "       [ 0.,  0.,  0.,  1.,  2., -6.,  0.,  0.,  0.,  1.,  0.,  0.,  0.,\n",
              "         0.],\n",
              "       [ 0.,  0.,  0.,  0.,  0.,  0., -4.,  2.,  0.,  0.,  1.,  0.,  0.,\n",
              "         0.],\n",
              "       [ 0.,  0.,  0.,  0.,  0.,  0.,  1., -4.,  1.,  0.,  0.,  1.,  0.,\n",
              "         0.],\n",
              "       [ 0.,  0.,  0.,  0.,  1.,  0.,  0.,  1., -4.,  1.,  0.,  0.,  1.,\n",
              "         0.],\n",
              "       [ 0.,  0.,  0.,  0.,  0.,  1.,  0.,  0.,  2., -6.,  0.,  0.,  0.,\n",
              "         1.],\n",
              "       [ 0.,  0.,  0.,  0.,  0.,  0.,  1.,  0.,  0.,  0., -3.,  1.,  0.,\n",
              "         0.],\n",
              "       [ 0.,  0.,  0.,  0.,  0.,  0.,  0.,  2.,  0.,  0.,  1., -6.,  1.,\n",
              "         0.],\n",
              "       [ 0.,  0.,  0.,  0.,  0.,  0.,  0.,  0.,  2.,  0.,  0.,  1., -6.,\n",
              "         1.],\n",
              "       [ 0.,  0.,  0.,  0.,  0.,  0.,  0.,  0.,  0.,  1.,  0.,  0.,  1.,\n",
              "        -4.]])"
            ]
          },
          "metadata": {},
          "execution_count": 11
        }
      ]
    },
    {
      "cell_type": "code",
      "metadata": {
        "id": "E2bcDRyqs4PK"
      },
      "source": [
        "b = np.array([\n",
        "              -100, 0, -100, 0, -100, 0, -100,\n",
        "              -100, 0, 0, 0, 0, 0, 0\n",
        "])"
      ],
      "execution_count": null,
      "outputs": []
    },
    {
      "cell_type": "code",
      "metadata": {
        "colab": {
          "base_uri": "https://localhost:8080/"
        },
        "id": "9E4bk5uKtMHX",
        "outputId": "0d4695b8-1764-4dcb-bb30-fb45ebab0512"
      },
      "source": [
        "sol = LA.solve(A, b)\n",
        "sol"
      ],
      "execution_count": null,
      "outputs": [
        {
          "output_type": "execute_result",
          "data": {
            "text/plain": [
              "array([64.48385336, 31.78162965, 63.0768919 , 30.8610356 , 56.96267862,\n",
              "       27.23080016, 60.30057908, 56.11499714, 37.54302244, 18.59840809,\n",
              "       28.97232204, 26.61638704, 18.4960059 ,  9.2736035 ])"
            ]
          },
          "metadata": {},
          "execution_count": 16
        }
      ]
    },
    {
      "cell_type": "code",
      "metadata": {
        "id": "ft_FMQiwtOxr"
      },
      "source": [
        "import matplotlib.pyplot as plt"
      ],
      "execution_count": null,
      "outputs": []
    },
    {
      "cell_type": "code",
      "metadata": {
        "id": "TZugJE-zubyR"
      },
      "source": [
        "mat = np.array([\n",
        "                [100, 100, sol[0], sol[1]],\n",
        "                [100, 100, sol[2], sol[3]],\n",
        "                [100, 100, sol[4], sol[5]],\n",
        "                [sol[6], sol[7], sol[8], sol[9]],\n",
        "                [sol[10], sol[11], sol[12], sol[13]]\n",
        "])"
      ],
      "execution_count": null,
      "outputs": []
    },
    {
      "cell_type": "code",
      "metadata": {
        "colab": {
          "base_uri": "https://localhost:8080/",
          "height": 269
        },
        "id": "CwP5uWAjt_BT",
        "outputId": "f5d5020d-1a7d-4423-b26b-35ec215134e6"
      },
      "source": [
        "plt.figure()\n",
        "plt.imshow(mat, interpolation='nearest', vmin=0, vmax=100, cmap='jet')\n",
        "plt.colorbar()\n",
        "plt.show()"
      ],
      "execution_count": null,
      "outputs": [
        {
          "output_type": "display_data",
          "data": {
            "image/png": "[encoded data removed]",
            "text/plain": [
              "<Figure size 432x288 with 2 Axes>"
            ]
          },
          "metadata": {
            "needs_background": "light"
          }
        }
      ]
    },
    {
      "cell_type": "code",
      "metadata": {
        "id": "7GzwRjbzu41l"
      },
      "source": [
        ""
      ],
      "execution_count": null,
      "outputs": []
    }
  ]
}
